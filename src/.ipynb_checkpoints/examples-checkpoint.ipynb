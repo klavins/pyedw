{
 "cells": [
  {
   "cell_type": "code",
   "execution_count": 33,
   "metadata": {},
   "outputs": [],
   "source": [
    "import numpy as np\n",
    "import matplotlib.pyplot as plt\n",
    "import matplotlib.patches as patches\n",
    "import pandas as pd\n",
    "import subprocess\n",
    "import re\n",
    "%matplotlib inline"
   ]
  },
  {
   "cell_type": "code",
   "execution_count": 39,
   "metadata": {},
   "outputs": [],
   "source": [
    "def str_query(str, db, debug=False):\n",
    "    result = subprocess.run(\n",
    "        [\n",
    "            \"/opt/mssql-tools/bin/sqlcmd\", \n",
    "            \"-E\",\n",
    "            \"-S\",\n",
    "            \"edwpub.s.uw.edu\",\n",
    "            \"-Q\",\n",
    "            str,\n",
    "            \"-s|\",\n",
    "            \"-d\",\n",
    "            db\n",
    "        ], stdout=subprocess.PIPE, stderr=subprocess.PIPE)\n",
    "    if debug:\n",
    "        print(result.stdout.decode('utf-8'))\n",
    "\n",
    "    rows = result.stdout.decode('utf-8').split(\"\\n\")\n",
    "    if result.stderr:\n",
    "        print(result.stderr.decode('utf-8'))\n",
    "    rows = [ [val.strip() for val in row.split(\"|\")] for row in rows]\n",
    "    keys = rows[0]\n",
    "    rows = rows[2:-3]\n",
    "    return pd.DataFrame(rows,columns=keys)\n",
    "\n",
    "def query(path,db,subs={},debug=False):\n",
    "    f = open(path, \"r\")\n",
    "    q = f.read()\n",
    "    for key in subs:\n",
    "        expr = re.compile(\"@\"+key)\n",
    "        q = re.sub(expr,subs[key],q)\n",
    "    if debug:\n",
    "        print(path)\n",
    "        print(q)\n",
    "    return str_query(q,db,debug)\n"
   ]
  },
  {
   "cell_type": "code",
   "execution_count": 40,
   "metadata": {},
   "outputs": [
    {
     "data": {
      "text/html": [
       "<div>\n",
       "<style scoped>\n",
       "    .dataframe tbody tr th:only-of-type {\n",
       "        vertical-align: middle;\n",
       "    }\n",
       "\n",
       "    .dataframe tbody tr th {\n",
       "        vertical-align: top;\n",
       "    }\n",
       "\n",
       "    .dataframe thead th {\n",
       "        text-align: right;\n",
       "    }\n",
       "</style>\n",
       "<table border=\"1\" class=\"dataframe\">\n",
       "  <thead>\n",
       "    <tr style=\"text-align: right;\">\n",
       "      <th></th>\n",
       "      <th></th>\n",
       "    </tr>\n",
       "  </thead>\n",
       "  <tbody>\n",
       "    <tr>\n",
       "      <th>0</th>\n",
       "      <td>2020-10-09 09:34:21.567</td>\n",
       "    </tr>\n",
       "  </tbody>\n",
       "</table>\n",
       "</div>"
      ],
      "text/plain": [
       "                          \n",
       "0  2020-10-09 09:34:21.567"
      ]
     },
     "execution_count": 40,
     "metadata": {},
     "output_type": "execute_result"
    }
   ],
   "source": [
    "query(\"queries/date.sql\",\"ODS\", debug=False)"
   ]
  },
  {
   "cell_type": "code",
   "execution_count": 42,
   "metadata": {},
   "outputs": [
    {
     "data": {
      "text/plain": [
       "'                       \\n-----------------------\\n2020-10-09 09:35:56.820\\n\\n(1 rows affected)\\n'"
      ]
     },
     "execution_count": 42,
     "metadata": {},
     "output_type": "execute_result"
    }
   ],
   "source": [
    "str_query(\"SELECT getdate()\", \"ODS\", debug=True)"
   ]
  },
  {
   "cell_type": "code",
   "execution_count": null,
   "metadata": {},
   "outputs": [],
   "source": []
  }
 ],
 "metadata": {
  "kernelspec": {
   "display_name": "Python 3",
   "language": "python",
   "name": "python3"
  },
  "language_info": {
   "codemirror_mode": {
    "name": "ipython",
    "version": 3
   },
   "file_extension": ".py",
   "mimetype": "text/x-python",
   "name": "python",
   "nbconvert_exporter": "python",
   "pygments_lexer": "ipython3",
   "version": "3.8.5"
  }
 },
 "nbformat": 4,
 "nbformat_minor": 4
}
