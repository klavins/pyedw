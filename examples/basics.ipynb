{
 "cells": [
  {
   "cell_type": "code",
   "execution_count": null,
   "metadata": {},
   "outputs": [],
   "source": [
    "# Import the library\n",
    "\n",
    "# TODO: Add this directory to the python path via the Dockerfile\n",
    "import sys\n",
    "sys.path.insert(0, \"/home/jovyan/work/src\")\n",
    "import pyedw as edw"
   ]
  },
  {
   "cell_type": "code",
   "execution_count": null,
   "metadata": {},
   "outputs": [],
   "source": [
    "edw.kinit()"
   ]
  },
  {
   "cell_type": "code",
   "execution_count": null,
   "metadata": {},
   "outputs": [],
   "source": [
    "# Run a query \n",
    "df = edw.str_query(\"SELECT getdate()\", \"ODS\")\n",
    "df"
   ]
  },
  {
   "cell_type": "code",
   "execution_count": null,
   "metadata": {},
   "outputs": [],
   "source": [
    "# Run a query that is defined in a file \n",
    "# In this case, the query is in queries/date.sql\n",
    "df = edw.query(\"date.sql\",\"ODS\")\n",
    "df"
   ]
  },
  {
   "cell_type": "code",
   "execution_count": null,
   "metadata": {},
   "outputs": [],
   "source": [
    "# Show all the departments in the college of engineering\n",
    "df = edw.query(\n",
    "    \"departments.sql\",\n",
    "    \"UWSDBDataStore\", \n",
    "    subs={\"College\": \"'J'\"})\n",
    "df"
   ]
  },
  {
   "cell_type": "code",
   "execution_count": null,
   "metadata": {},
   "outputs": [],
   "source": [
    "# Figure out a PI's OrgCode\n",
    "df = edw.str_query(\n",
    "    \"SELECT TOP 1 * FROM sec.FinancialOrganization WHERE OrgName = 'EE KLAVINS'\", \n",
    "    \"ODS\", \n",
    "    debug=False)\n",
    "orgcode = int(df.OrgCode[0])\n",
    "orgcode"
   ]
  },
  {
   "cell_type": "code",
   "execution_count": null,
   "metadata": {},
   "outputs": [],
   "source": [
    "edw.kdestroy()"
   ]
  },
  {
   "cell_type": "code",
   "execution_count": null,
   "metadata": {},
   "outputs": [],
   "source": []
  }
 ],
 "metadata": {
  "kernelspec": {
   "display_name": "Python 3",
   "language": "python",
   "name": "python3"
  },
  "language_info": {
   "codemirror_mode": {
    "name": "ipython",
    "version": 3
   },
   "file_extension": ".py",
   "mimetype": "text/x-python",
   "name": "python",
   "nbconvert_exporter": "python",
   "pygments_lexer": "ipython3",
   "version": "3.8.5"
  }
 },
 "nbformat": 4,
 "nbformat_minor": 4
}
