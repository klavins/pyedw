{
 "cells": [
  {
   "cell_type": "code",
   "execution_count": null,
   "metadata": {},
   "outputs": [],
   "source": [
    "# Import the library\n",
    "\n",
    "# TODO: Add this directory to the python path via the Dockerfile\n",
    "import sys\n",
    "sys.path.insert(0, \"/home/jovyan/work/src\")\n",
    "import pyedw as edw\n",
    "\n",
    "import numpy as np\n",
    "import matplotlib.pyplot as plt"
   ]
  },
  {
   "cell_type": "code",
   "execution_count": null,
   "metadata": {},
   "outputs": [],
   "source": [
    "edw.kinit()"
   ]
  },
  {
   "cell_type": "code",
   "execution_count": null,
   "metadata": {},
   "outputs": [],
   "source": [
    "# Run a query \n",
    "df = edw.str_query(\"SELECT getdate()\", \"ODS\", debug=False)\n",
    "df"
   ]
  },
  {
   "cell_type": "code",
   "execution_count": null,
   "metadata": {},
   "outputs": [],
   "source": [
    "# Run a query that is defined in a file \n",
    "# In this case, the query is in queries/date.sql\n",
    "df = edw.query(\"date.sql\",\"ODS\", debug=False)\n",
    "df"
   ]
  },
  {
   "cell_type": "code",
   "execution_count": null,
   "metadata": {},
   "outputs": [],
   "source": [
    "# Show all the departments in the college of engineering\n",
    "df = edw.query(\"departments.sql\",\"UWSDBDataStore\", \n",
    "    subs={\"College\": \"'J'\"}, \n",
    "    debug=False)\n",
    "df"
   ]
  },
  {
   "cell_type": "code",
   "execution_count": null,
   "metadata": {},
   "outputs": [],
   "source": [
    "# Figure out a PI's OrgCode\n",
    "df = edw.str_query(\n",
    "    \"SELECT TOP 1 * FROM sec.FinancialOrganization WHERE OrgName LIKE '% KLAVINS'\", \n",
    "    \"ODS\", \n",
    "    debug=False)\n",
    "orgcode = int(df.OrgCode[0])\n",
    "orgcode"
   ]
  },
  {
   "cell_type": "code",
   "execution_count": null,
   "metadata": {},
   "outputs": [],
   "source": [
    "# Get a PI's transactions for a given perod of time adn summarize them budget budget number\n",
    "\n",
    "trans = edw.query(\n",
    "    \"transactions_by_orgcode.sql\",\n",
    "    \"ODS\",{\n",
    "        \"ORG_CODE\": str(orgcode),\n",
    "        \"START_DATE\": \"'8/1/2020'\",\n",
    "        \"END_DATE\": \"'8/31/2020'\"}, \n",
    "    debug=False)\n",
    "trans['TranAmount'] = trans['TranAmount'].astype(float)\n",
    "trans.groupby([\"BudgetNbr\", \"BudgetName\"])[\"TranAmount\"].sum()"
   ]
  },
  {
   "cell_type": "code",
   "execution_count": null,
   "metadata": {},
   "outputs": [],
   "source": [
    "# Get a transactions for a particular budget and list them nicely\n",
    "\n",
    "budget_numbers = trans[\"BudgetNbr\"].unique()\n",
    "\n",
    "btrans = edw.query(\n",
    "    \"transactions_by_budget.sql\",\n",
    "    \"ODS\",{\n",
    "        \"BUDGET_NUMBER\": str(budget_numbers[0]),\n",
    "        \"START_DATE\": \"'8/1/2020'\",\n",
    "        \"END_DATE\": \"'8/31/2020'\"}, \n",
    "    debug=False)\n",
    "btrans['TranAmount'] = btrans['TranAmount'].astype(float)\n",
    "btrans[[ \"BudgetName\", \"TranPostingDate\", \"TranAmount\", \"TranCodeDesc\", \"PayeeName\"]]"
   ]
  },
  {
   "cell_type": "code",
   "execution_count": null,
   "metadata": {},
   "outputs": [],
   "source": [
    "# Show what else you could know about a transaction\n",
    "for c in btrans.columns:\n",
    "    print(c)"
   ]
  },
  {
   "cell_type": "code",
   "execution_count": null,
   "metadata": {},
   "outputs": [],
   "source": [
    "edw.kdestroy()"
   ]
  }
 ],
 "metadata": {
  "kernelspec": {
   "display_name": "Python 3",
   "language": "python",
   "name": "python3"
  },
  "language_info": {
   "codemirror_mode": {
    "name": "ipython",
    "version": 3
   },
   "file_extension": ".py",
   "mimetype": "text/x-python",
   "name": "python",
   "nbconvert_exporter": "python",
   "pygments_lexer": "ipython3",
   "version": "3.8.5"
  }
 },
 "nbformat": 4,
 "nbformat_minor": 4
}
