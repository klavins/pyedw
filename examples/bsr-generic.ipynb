{
 "cells": [
  {
   "cell_type": "markdown",
   "metadata": {},
   "source": [
    "# Budget Status Report\n",
    "\n",
    "***Goal***: This notebook should:\n",
    "- [X] Pull all active budgets for a PI\n",
    "- [X] For each one, show the revenue and expenditures for a given date period\n",
    "- [X] For each one, show the actual balance vs. time and compare it to the ideal burn rate\n",
    "- [X] Show promised funds vs actual disbursements (Promised funds may have to be entered anually)\n",
    "- [ ] Show who has been and is being funded\n",
    "- [ ] Forcast each grant into the future, using a plot\n",
    "- [ ] Allow the PI to model the assignment of future funds to specific salaries, equipment, etc. to see how long they will last"
   ]
  },
  {
   "cell_type": "markdown",
   "metadata": {},
   "source": [
    "# Initialization"
   ]
  },
  {
   "cell_type": "code",
   "execution_count": null,
   "metadata": {},
   "outputs": [],
   "source": [
    "from datetime import datetime\n",
    "import sys\n",
    "sys.path.insert(0, \"/home/jovyan/work/src\")\n",
    "import pyedw as edw\n",
    "import numpy as np\n",
    "import matplotlib.pyplot as plt\n",
    "import pandas as pd\n",
    "import matplotlib.dates as mdates\n",
    "import matplotlib.cbook as cbook\n",
    "\n",
    "edw.kinit()"
   ]
  },
  {
   "cell_type": "code",
   "execution_count": null,
   "metadata": {},
   "outputs": [],
   "source": [
    "# Notebook Variables\n",
    "\n",
    "PIName = \"Last, First\"\n",
    "PINetID = \"uwnetid\"\n",
    "OrgName = \"%LASTNAME%\""
   ]
  },
  {
   "cell_type": "markdown",
   "metadata": {},
   "source": [
    "# PI Information\n",
    "\n",
    "This section finds information about the PI. "
   ]
  },
  {
   "cell_type": "code",
   "execution_count": null,
   "metadata": {},
   "outputs": [],
   "source": [
    "# PI Org Code\n",
    "\n",
    "df = edw.str_query(\n",
    "    \"SELECT TOP 1 * FROM sec.FinancialOrganization WHERE OrgName LIKE '%s'\" % OrgName,\n",
    "    \"ODS\", \n",
    "    debug=False)\n",
    "OrgCode = int(df.OrgCode[0])\n",
    "\n",
    "# Figure out a PI's Employee ID\n",
    "PIInfo = edw.str_query(\n",
    "    \"SELECT TOP 1 * FROM sec.Person WHERE UWNetID = '%s'\" % PINetID, \n",
    "    \"ODS\", \n",
    "    debug=False)\n",
    "EId = int(PIInfo[\"EmployeeID\"][0])\n",
    "\n",
    "print(PIName)\n",
    "print(\"   NetID:       \", PINetID)\n",
    "print(\"   OrgCode:     \", OrgCode)\n",
    "print(\"   Employee ID: \", EId)\n"
   ]
  },
  {
   "cell_type": "markdown",
   "metadata": {},
   "source": [
    "# Budget List"
   ]
  },
  {
   "cell_type": "code",
   "execution_count": null,
   "metadata": {},
   "outputs": [],
   "source": [
    "# Method 1: Use RAD_dimBudget. Does not obviously show start / end dates\n",
    "budgets = edw.str_query(\n",
    "    \"SELECT * FROM sec.RAD_dimBudget WHERE PIId = \" + str(EId), \n",
    "    \"EDWPresentation\", \n",
    "    debug=False)\n",
    "budget_numbers = budgets[[\"ReportingBudgetNbr\", \"BudgetName\"]].drop_duplicates().reset_index()\n",
    "budget_numbers"
   ]
  },
  {
   "cell_type": "code",
   "execution_count": null,
   "metadata": {},
   "outputs": [],
   "source": [
    "# Method 2: Use BudgetIndex\n",
    "# Note, this does not list budgets that have end dates = 0, which seem to be everlasting budgets like RCR.\n",
    "# Columns explained at: https://metadata.uw.edu/Catalog/ViewItem/Table/odshepps.budgetindex\n",
    "budgets = edw.str_query(\n",
    "    \"SELECT * FROM sec.BudgetIndex WHERE OrgCode = %i\" % OrgCode,\n",
    "    \"ODS\", \n",
    "    debug=False)\n",
    "budgets[\"TotalPeriodEndDate\"] = budgets[\"TotalPeriodEndDate\"].astype(int)\n",
    "budgets = budgets[(budgets[\"TotalPeriodEndDate\"] >= 20200000)].drop_duplicates(subset=['BudgetNbr'])\n",
    "budgets[[\"BudgetNbr\", \"BudgetName\", \"TotalPeriodBeginDate\", \"TotalPeriodEndDate\", \"RevenueSourceDesc\", \"HomeDeptOrgName\", \"BudgetTypeDesc\", \"BudgetStatus\"]]"
   ]
  },
  {
   "cell_type": "markdown",
   "metadata": {},
   "source": [
    "# Balance vs Time"
   ]
  },
  {
   "cell_type": "code",
   "execution_count": null,
   "metadata": {},
   "outputs": [],
   "source": [
    "# Table defined at https://metadata.uw.edu/Catalog/ViewItem/Table/odshepps.budgetactivitydetail\n",
    "\n",
    "budget_info = budgets.iloc[0] \n",
    "budget_nbr = budget_info[\"BudgetNbr\"]\n",
    "award_total = 332500\n",
    "\n",
    "award_start = budget_info[\"TotalPeriodBeginDate\"]\n",
    "award_start = datetime.strptime(award_start, '%Y%m%d') \n",
    "\n",
    "award_end = str(budget_info[\"TotalPeriodEndDate\"])\n",
    "award_end = datetime.strptime(award_end, '%Y%m%d')\n",
    "\n",
    "activity = edw.str_query(\n",
    "    \"\"\"SELECT * FROM sec.BudgetActivityDetail \n",
    "                WHERE BudgetNbr = '%s'\n",
    "                AND TranCode IN (30,32,35,36,44,50,52,60,61,62,65,70,73)\n",
    "    \"\"\" % budget_nbr,\n",
    "    \"ODS\", \n",
    "    debug=False)\n",
    "\n",
    "activity = activity.sort_values(by=\"TranPostingDate\")\n",
    "activity[\"TranAmount\"] = activity[\"TranAmount\"].astype(float)\n",
    "\n",
    "income = activity[\n",
    "    (activity[\"TranCode\"] == '32') | (activity[\"TranCode\"] == '35')\n",
    "].copy()\n",
    "\n",
    "income[\"Balance\"] = income[\"TranAmount\"].astype(float).cumsum()\n",
    "\n",
    "transactions = activity[\n",
    "    (activity[\"TranCode\"] != '32') & (activity[\"TranCode\"] != '35')\n",
    "].copy()\n",
    "\n",
    "transactions[\"Balance\"] = transactions[\"TranAmount\"].astype(float).cumsum()\n"
   ]
  },
  {
   "cell_type": "code",
   "execution_count": null,
   "metadata": {},
   "outputs": [],
   "source": [
    "years = mdates.YearLocator()   # every year\n",
    "months = mdates.MonthLocator()  # every month\n",
    "years_fmt = mdates.DateFormatter('%Y')\n",
    "\n",
    "income_balances = np.array(income[\"Balance\"].values)\n",
    "income_dates = np.array([np.datetime64(d) for d in income[\"TranPostingDate\"].values])\n",
    "\n",
    "transaction_balances = np.array(transactions[\"Balance\"].values)\n",
    "transaction_dates = np.array([np.datetime64(d) for d in transactions[\"TranPostingDate\"].values])\n",
    "\n",
    "burn_dates = np.array([np.datetime64(d) for d in [ award_start, award_end ] ]) \n",
    "burn_amounts = [ 0, award_total ]\n",
    "\n",
    "fig = plt.figure()\n",
    "ax = fig.add_subplot(1,1,1) \n",
    "plt.step(income_dates, -income_balances, transaction_dates, transaction_balances)\n",
    "plt.plot(burn_dates, burn_amounts, burn_dates, [award_total, award_total]);\n",
    "\n",
    "# format the ticks\n",
    "ax.xaxis.set_major_locator(years)\n",
    "ax.xaxis.set_major_formatter(years_fmt)\n",
    "ax.xaxis.set_minor_locator(months)\n",
    "\n",
    "# round to nearest years\n",
    "datemin = np.datetime64(award_start, 'Y')\n",
    "datemax = np.datetime64(award_end, 'Y') + np.timedelta64(1, 'Y')\n",
    "ax.set_xlim(datemin, datemax)\n",
    "\n",
    "# format the coords message box\n",
    "ax.format_xdata = mdates.DateFormatter('%Y-%m-%d')\n",
    "ax.grid(True)\n",
    "\n",
    "# rotates and right aligns the x labels, and moves the bottom of the\n",
    "# axes up to make room for them\n",
    "fig.autofmt_xdate()\n",
    "fig.set_size_inches(18.5, 10.5)\n",
    "\n",
    "ax.set_title(str(budget_nbr) + \": \" + budget_info[\"BudgetName\"])\n",
    "\n",
    "plt.show()"
   ]
  }
 ],
 "metadata": {
  "kernelspec": {
   "display_name": "Python 3",
   "language": "python",
   "name": "python3"
  },
  "language_info": {
   "codemirror_mode": {
    "name": "ipython",
    "version": 3
   },
   "file_extension": ".py",
   "mimetype": "text/x-python",
   "name": "python",
   "nbconvert_exporter": "python",
   "pygments_lexer": "ipython3",
   "version": "3.8.5"
  }
 },
 "nbformat": 4,
 "nbformat_minor": 4
}
